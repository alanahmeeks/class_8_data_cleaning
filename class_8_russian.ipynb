{
 "cells": [
  {
   "cell_type": "code",
   "execution_count": 1,
   "id": "a5d15584",
   "metadata": {},
   "outputs": [],
   "source": [
    "import pandas as pd"
   ]
  },
  {
   "cell_type": "code",
   "execution_count": 2,
   "id": "cefc91f4",
   "metadata": {},
   "outputs": [],
   "source": [
    "df = pd.read_csv(\"sberbank-russian-housing-market/train.csv\")"
   ]
  },
  {
   "cell_type": "code",
   "execution_count": 3,
   "id": "9f135f6a",
   "metadata": {},
   "outputs": [
    {
     "name": "stdout",
     "output_type": "stream",
     "text": [
      "<class 'pandas.core.frame.DataFrame'>\n",
      "RangeIndex: 30471 entries, 0 to 30470\n",
      "Data columns (total 292 columns):\n",
      " #    Column                                 Dtype  \n",
      "---   ------                                 -----  \n",
      " 0    id                                     int64  \n",
      " 1    timestamp                              object \n",
      " 2    full_sq                                int64  \n",
      " 3    life_sq                                float64\n",
      " 4    floor                                  float64\n",
      " 5    max_floor                              float64\n",
      " 6    material                               float64\n",
      " 7    build_year                             float64\n",
      " 8    num_room                               float64\n",
      " 9    kitch_sq                               float64\n",
      " 10   state                                  float64\n",
      " 11   product_type                           object \n",
      " 12   sub_area                               object \n",
      " 13   area_m                                 float64\n",
      " 14   raion_popul                            int64  \n",
      " 15   green_zone_part                        float64\n",
      " 16   indust_part                            float64\n",
      " 17   children_preschool                     int64  \n",
      " 18   preschool_quota                        float64\n",
      " 19   preschool_education_centers_raion      int64  \n",
      " 20   children_school                        int64  \n",
      " 21   school_quota                           float64\n",
      " 22   school_education_centers_raion         int64  \n",
      " 23   school_education_centers_top_20_raion  int64  \n",
      " 24   hospital_beds_raion                    float64\n",
      " 25   healthcare_centers_raion               int64  \n",
      " 26   university_top_20_raion                int64  \n",
      " 27   sport_objects_raion                    int64  \n",
      " 28   additional_education_raion             int64  \n",
      " 29   culture_objects_top_25                 object \n",
      " 30   culture_objects_top_25_raion           int64  \n",
      " 31   shopping_centers_raion                 int64  \n",
      " 32   office_raion                           int64  \n",
      " 33   thermal_power_plant_raion              object \n",
      " 34   incineration_raion                     object \n",
      " 35   oil_chemistry_raion                    object \n",
      " 36   radiation_raion                        object \n",
      " 37   railroad_terminal_raion                object \n",
      " 38   big_market_raion                       object \n",
      " 39   nuclear_reactor_raion                  object \n",
      " 40   detention_facility_raion               object \n",
      " 41   full_all                               int64  \n",
      " 42   male_f                                 int64  \n",
      " 43   female_f                               int64  \n",
      " 44   young_all                              int64  \n",
      " 45   young_male                             int64  \n",
      " 46   young_female                           int64  \n",
      " 47   work_all                               int64  \n",
      " 48   work_male                              int64  \n",
      " 49   work_female                            int64  \n",
      " 50   ekder_all                              int64  \n",
      " 51   ekder_male                             int64  \n",
      " 52   ekder_female                           int64  \n",
      " 53   0_6_all                                int64  \n",
      " 54   0_6_male                               int64  \n",
      " 55   0_6_female                             int64  \n",
      " 56   7_14_all                               int64  \n",
      " 57   7_14_male                              int64  \n",
      " 58   7_14_female                            int64  \n",
      " 59   0_17_all                               int64  \n",
      " 60   0_17_male                              int64  \n",
      " 61   0_17_female                            int64  \n",
      " 62   16_29_all                              int64  \n",
      " 63   16_29_male                             int64  \n",
      " 64   16_29_female                           int64  \n",
      " 65   0_13_all                               int64  \n",
      " 66   0_13_male                              int64  \n",
      " 67   0_13_female                            int64  \n",
      " 68   raion_build_count_with_material_info   float64\n",
      " 69   build_count_block                      float64\n",
      " 70   build_count_wood                       float64\n",
      " 71   build_count_frame                      float64\n",
      " 72   build_count_brick                      float64\n",
      " 73   build_count_monolith                   float64\n",
      " 74   build_count_panel                      float64\n",
      " 75   build_count_foam                       float64\n",
      " 76   build_count_slag                       float64\n",
      " 77   build_count_mix                        float64\n",
      " 78   raion_build_count_with_builddate_info  float64\n",
      " 79   build_count_before_1920                float64\n",
      " 80   build_count_1921-1945                  float64\n",
      " 81   build_count_1946-1970                  float64\n",
      " 82   build_count_1971-1995                  float64\n",
      " 83   build_count_after_1995                 float64\n",
      " 84   ID_metro                               int64  \n",
      " 85   metro_min_avto                         float64\n",
      " 86   metro_km_avto                          float64\n",
      " 87   metro_min_walk                         float64\n",
      " 88   metro_km_walk                          float64\n",
      " 89   kindergarten_km                        float64\n",
      " 90   school_km                              float64\n",
      " 91   park_km                                float64\n",
      " 92   green_zone_km                          float64\n",
      " 93   industrial_km                          float64\n",
      " 94   water_treatment_km                     float64\n",
      " 95   cemetery_km                            float64\n",
      " 96   incineration_km                        float64\n",
      " 97   railroad_station_walk_km               float64\n",
      " 98   railroad_station_walk_min              float64\n",
      " 99   ID_railroad_station_walk               float64\n",
      " 100  railroad_station_avto_km               float64\n",
      " 101  railroad_station_avto_min              float64\n",
      " 102  ID_railroad_station_avto               int64  \n",
      " 103  public_transport_station_km            float64\n",
      " 104  public_transport_station_min_walk      float64\n",
      " 105  water_km                               float64\n",
      " 106  water_1line                            object \n",
      " 107  mkad_km                                float64\n",
      " 108  ttk_km                                 float64\n",
      " 109  sadovoe_km                             float64\n",
      " 110  bulvar_ring_km                         float64\n",
      " 111  kremlin_km                             float64\n",
      " 112  big_road1_km                           float64\n",
      " 113  ID_big_road1                           int64  \n",
      " 114  big_road1_1line                        object \n",
      " 115  big_road2_km                           float64\n",
      " 116  ID_big_road2                           int64  \n",
      " 117  railroad_km                            float64\n",
      " 118  railroad_1line                         object \n",
      " 119  zd_vokzaly_avto_km                     float64\n",
      " 120  ID_railroad_terminal                   int64  \n",
      " 121  bus_terminal_avto_km                   float64\n",
      " 122  ID_bus_terminal                        int64  \n",
      " 123  oil_chemistry_km                       float64\n",
      " 124  nuclear_reactor_km                     float64\n",
      " 125  radiation_km                           float64\n",
      " 126  power_transmission_line_km             float64\n",
      " 127  thermal_power_plant_km                 float64\n",
      " 128  ts_km                                  float64\n",
      " 129  big_market_km                          float64\n",
      " 130  market_shop_km                         float64\n",
      " 131  fitness_km                             float64\n",
      " 132  swim_pool_km                           float64\n",
      " 133  ice_rink_km                            float64\n",
      " 134  stadium_km                             float64\n",
      " 135  basketball_km                          float64\n",
      " 136  hospice_morgue_km                      float64\n",
      " 137  detention_facility_km                  float64\n",
      " 138  public_healthcare_km                   float64\n",
      " 139  university_km                          float64\n",
      " 140  workplaces_km                          float64\n",
      " 141  shopping_centers_km                    float64\n",
      " 142  office_km                              float64\n",
      " 143  additional_education_km                float64\n",
      " 144  preschool_km                           float64\n",
      " 145  big_church_km                          float64\n",
      " 146  church_synagogue_km                    float64\n",
      " 147  mosque_km                              float64\n",
      " 148  theater_km                             float64\n",
      " 149  museum_km                              float64\n",
      " 150  exhibition_km                          float64\n",
      " 151  catering_km                            float64\n",
      " 152  ecology                                object \n",
      " 153  green_part_500                         float64\n",
      " 154  prom_part_500                          float64\n",
      " 155  office_count_500                       int64  \n",
      " 156  office_sqm_500                         int64  \n",
      " 157  trc_count_500                          int64  \n",
      " 158  trc_sqm_500                            int64  \n",
      " 159  cafe_count_500                         int64  \n",
      " 160  cafe_sum_500_min_price_avg             float64\n",
      " 161  cafe_sum_500_max_price_avg             float64\n",
      " 162  cafe_avg_price_500                     float64\n",
      " 163  cafe_count_500_na_price                int64  \n",
      " 164  cafe_count_500_price_500               int64  \n",
      " 165  cafe_count_500_price_1000              int64  \n",
      " 166  cafe_count_500_price_1500              int64  \n",
      " 167  cafe_count_500_price_2500              int64  \n",
      " 168  cafe_count_500_price_4000              int64  \n",
      " 169  cafe_count_500_price_high              int64  \n",
      " 170  big_church_count_500                   int64  \n",
      " 171  church_count_500                       int64  \n",
      " 172  mosque_count_500                       int64  \n",
      " 173  leisure_count_500                      int64  \n",
      " 174  sport_count_500                        int64  \n",
      " 175  market_count_500                       int64  \n",
      " 176  green_part_1000                        float64\n",
      " 177  prom_part_1000                         float64\n",
      " 178  office_count_1000                      int64  \n",
      " 179  office_sqm_1000                        int64  \n",
      " 180  trc_count_1000                         int64  \n",
      " 181  trc_sqm_1000                           int64  \n",
      " 182  cafe_count_1000                        int64  \n",
      " 183  cafe_sum_1000_min_price_avg            float64\n",
      " 184  cafe_sum_1000_max_price_avg            float64\n",
      " 185  cafe_avg_price_1000                    float64\n",
      " 186  cafe_count_1000_na_price               int64  \n",
      " 187  cafe_count_1000_price_500              int64  \n",
      " 188  cafe_count_1000_price_1000             int64  \n",
      " 189  cafe_count_1000_price_1500             int64  \n",
      " 190  cafe_count_1000_price_2500             int64  \n",
      " 191  cafe_count_1000_price_4000             int64  \n",
      " 192  cafe_count_1000_price_high             int64  \n",
      " 193  big_church_count_1000                  int64  \n",
      " 194  church_count_1000                      int64  \n",
      " 195  mosque_count_1000                      int64  \n",
      " 196  leisure_count_1000                     int64  \n",
      " 197  sport_count_1000                       int64  \n",
      " 198  market_count_1000                      int64  \n",
      " 199  green_part_1500                        float64\n",
      " 200  prom_part_1500                         float64\n",
      " 201  office_count_1500                      int64  \n",
      " 202  office_sqm_1500                        int64  \n",
      " 203  trc_count_1500                         int64  \n",
      " 204  trc_sqm_1500                           int64  \n",
      " 205  cafe_count_1500                        int64  \n",
      " 206  cafe_sum_1500_min_price_avg            float64\n",
      " 207  cafe_sum_1500_max_price_avg            float64\n",
      " 208  cafe_avg_price_1500                    float64\n",
      " 209  cafe_count_1500_na_price               int64  \n",
      " 210  cafe_count_1500_price_500              int64  \n",
      " 211  cafe_count_1500_price_1000             int64  \n",
      " 212  cafe_count_1500_price_1500             int64  \n",
      " 213  cafe_count_1500_price_2500             int64  \n",
      " 214  cafe_count_1500_price_4000             int64  \n",
      " 215  cafe_count_1500_price_high             int64  \n",
      " 216  big_church_count_1500                  int64  \n",
      " 217  church_count_1500                      int64  \n",
      " 218  mosque_count_1500                      int64  \n",
      " 219  leisure_count_1500                     int64  \n",
      " 220  sport_count_1500                       int64  \n",
      " 221  market_count_1500                      int64  \n",
      " 222  green_part_2000                        float64\n",
      " 223  prom_part_2000                         float64\n",
      " 224  office_count_2000                      int64  \n",
      " 225  office_sqm_2000                        int64  \n",
      " 226  trc_count_2000                         int64  \n",
      " 227  trc_sqm_2000                           int64  \n",
      " 228  cafe_count_2000                        int64  \n",
      " 229  cafe_sum_2000_min_price_avg            float64\n",
      " 230  cafe_sum_2000_max_price_avg            float64\n",
      " 231  cafe_avg_price_2000                    float64\n",
      " 232  cafe_count_2000_na_price               int64  \n",
      " 233  cafe_count_2000_price_500              int64  \n",
      " 234  cafe_count_2000_price_1000             int64  \n",
      " 235  cafe_count_2000_price_1500             int64  \n",
      " 236  cafe_count_2000_price_2500             int64  \n",
      " 237  cafe_count_2000_price_4000             int64  \n",
      " 238  cafe_count_2000_price_high             int64  \n",
      " 239  big_church_count_2000                  int64  \n",
      " 240  church_count_2000                      int64  \n",
      " 241  mosque_count_2000                      int64  \n",
      " 242  leisure_count_2000                     int64  \n",
      " 243  sport_count_2000                       int64  \n",
      " 244  market_count_2000                      int64  \n",
      " 245  green_part_3000                        float64\n",
      " 246  prom_part_3000                         float64\n",
      " 247  office_count_3000                      int64  \n",
      " 248  office_sqm_3000                        int64  \n",
      " 249  trc_count_3000                         int64  \n",
      " 250  trc_sqm_3000                           int64  \n",
      " 251  cafe_count_3000                        int64  \n",
      " 252  cafe_sum_3000_min_price_avg            float64\n",
      " 253  cafe_sum_3000_max_price_avg            float64\n",
      " 254  cafe_avg_price_3000                    float64\n",
      " 255  cafe_count_3000_na_price               int64  \n",
      " 256  cafe_count_3000_price_500              int64  \n",
      " 257  cafe_count_3000_price_1000             int64  \n",
      " 258  cafe_count_3000_price_1500             int64  \n",
      " 259  cafe_count_3000_price_2500             int64  \n",
      " 260  cafe_count_3000_price_4000             int64  \n",
      " 261  cafe_count_3000_price_high             int64  \n",
      " 262  big_church_count_3000                  int64  \n",
      " 263  church_count_3000                      int64  \n",
      " 264  mosque_count_3000                      int64  \n",
      " 265  leisure_count_3000                     int64  \n",
      " 266  sport_count_3000                       int64  \n",
      " 267  market_count_3000                      int64  \n",
      " 268  green_part_5000                        float64\n",
      " 269  prom_part_5000                         float64\n",
      " 270  office_count_5000                      int64  \n",
      " 271  office_sqm_5000                        int64  \n",
      " 272  trc_count_5000                         int64  \n",
      " 273  trc_sqm_5000                           int64  \n",
      " 274  cafe_count_5000                        int64  \n",
      " 275  cafe_sum_5000_min_price_avg            float64\n",
      " 276  cafe_sum_5000_max_price_avg            float64\n",
      " 277  cafe_avg_price_5000                    float64\n",
      " 278  cafe_count_5000_na_price               int64  \n",
      " 279  cafe_count_5000_price_500              int64  \n",
      " 280  cafe_count_5000_price_1000             int64  \n",
      " 281  cafe_count_5000_price_1500             int64  \n",
      " 282  cafe_count_5000_price_2500             int64  \n",
      " 283  cafe_count_5000_price_4000             int64  \n",
      " 284  cafe_count_5000_price_high             int64  \n",
      " 285  big_church_count_5000                  int64  \n",
      " 286  church_count_5000                      int64  \n",
      " 287  mosque_count_5000                      int64  \n",
      " 288  leisure_count_5000                     int64  \n",
      " 289  sport_count_5000                       int64  \n",
      " 290  market_count_5000                      int64  \n",
      " 291  price_doc                              int64  \n",
      "dtypes: float64(119), int64(157), object(16)\n",
      "memory usage: 67.9+ MB\n"
     ]
    }
   ],
   "source": [
    "df.info(verbose=True)"
   ]
  },
  {
   "cell_type": "code",
   "execution_count": 4,
   "id": "b2767ac8",
   "metadata": {},
   "outputs": [],
   "source": [
    "#df.info()"
   ]
  },
  {
   "cell_type": "code",
   "execution_count": 5,
   "id": "655cf931",
   "metadata": {},
   "outputs": [
    {
     "data": {
      "text/html": [
       "<div>\n",
       "<style scoped>\n",
       "    .dataframe tbody tr th:only-of-type {\n",
       "        vertical-align: middle;\n",
       "    }\n",
       "\n",
       "    .dataframe tbody tr th {\n",
       "        vertical-align: top;\n",
       "    }\n",
       "\n",
       "    .dataframe thead th {\n",
       "        text-align: right;\n",
       "    }\n",
       "</style>\n",
       "<table border=\"1\" class=\"dataframe\">\n",
       "  <thead>\n",
       "    <tr style=\"text-align: right;\">\n",
       "      <th></th>\n",
       "      <th>id</th>\n",
       "      <th>timestamp</th>\n",
       "      <th>full_sq</th>\n",
       "      <th>life_sq</th>\n",
       "      <th>floor</th>\n",
       "      <th>max_floor</th>\n",
       "      <th>material</th>\n",
       "      <th>build_year</th>\n",
       "      <th>num_room</th>\n",
       "      <th>kitch_sq</th>\n",
       "      <th>...</th>\n",
       "      <th>cafe_count_5000_price_2500</th>\n",
       "      <th>cafe_count_5000_price_4000</th>\n",
       "      <th>cafe_count_5000_price_high</th>\n",
       "      <th>big_church_count_5000</th>\n",
       "      <th>church_count_5000</th>\n",
       "      <th>mosque_count_5000</th>\n",
       "      <th>leisure_count_5000</th>\n",
       "      <th>sport_count_5000</th>\n",
       "      <th>market_count_5000</th>\n",
       "      <th>price_doc</th>\n",
       "    </tr>\n",
       "  </thead>\n",
       "  <tbody>\n",
       "    <tr>\n",
       "      <th>0</th>\n",
       "      <td>1</td>\n",
       "      <td>2011-08-20</td>\n",
       "      <td>43</td>\n",
       "      <td>27.0</td>\n",
       "      <td>4.0</td>\n",
       "      <td>NaN</td>\n",
       "      <td>NaN</td>\n",
       "      <td>NaN</td>\n",
       "      <td>NaN</td>\n",
       "      <td>NaN</td>\n",
       "      <td>...</td>\n",
       "      <td>9</td>\n",
       "      <td>4</td>\n",
       "      <td>0</td>\n",
       "      <td>13</td>\n",
       "      <td>22</td>\n",
       "      <td>1</td>\n",
       "      <td>0</td>\n",
       "      <td>52</td>\n",
       "      <td>4</td>\n",
       "      <td>5850000</td>\n",
       "    </tr>\n",
       "    <tr>\n",
       "      <th>1</th>\n",
       "      <td>2</td>\n",
       "      <td>2011-08-23</td>\n",
       "      <td>34</td>\n",
       "      <td>19.0</td>\n",
       "      <td>3.0</td>\n",
       "      <td>NaN</td>\n",
       "      <td>NaN</td>\n",
       "      <td>NaN</td>\n",
       "      <td>NaN</td>\n",
       "      <td>NaN</td>\n",
       "      <td>...</td>\n",
       "      <td>15</td>\n",
       "      <td>3</td>\n",
       "      <td>0</td>\n",
       "      <td>15</td>\n",
       "      <td>29</td>\n",
       "      <td>1</td>\n",
       "      <td>10</td>\n",
       "      <td>66</td>\n",
       "      <td>14</td>\n",
       "      <td>6000000</td>\n",
       "    </tr>\n",
       "    <tr>\n",
       "      <th>2</th>\n",
       "      <td>3</td>\n",
       "      <td>2011-08-27</td>\n",
       "      <td>43</td>\n",
       "      <td>29.0</td>\n",
       "      <td>2.0</td>\n",
       "      <td>NaN</td>\n",
       "      <td>NaN</td>\n",
       "      <td>NaN</td>\n",
       "      <td>NaN</td>\n",
       "      <td>NaN</td>\n",
       "      <td>...</td>\n",
       "      <td>10</td>\n",
       "      <td>3</td>\n",
       "      <td>0</td>\n",
       "      <td>11</td>\n",
       "      <td>27</td>\n",
       "      <td>0</td>\n",
       "      <td>4</td>\n",
       "      <td>67</td>\n",
       "      <td>10</td>\n",
       "      <td>5700000</td>\n",
       "    </tr>\n",
       "    <tr>\n",
       "      <th>3</th>\n",
       "      <td>4</td>\n",
       "      <td>2011-09-01</td>\n",
       "      <td>89</td>\n",
       "      <td>50.0</td>\n",
       "      <td>9.0</td>\n",
       "      <td>NaN</td>\n",
       "      <td>NaN</td>\n",
       "      <td>NaN</td>\n",
       "      <td>NaN</td>\n",
       "      <td>NaN</td>\n",
       "      <td>...</td>\n",
       "      <td>11</td>\n",
       "      <td>2</td>\n",
       "      <td>1</td>\n",
       "      <td>4</td>\n",
       "      <td>4</td>\n",
       "      <td>0</td>\n",
       "      <td>0</td>\n",
       "      <td>26</td>\n",
       "      <td>3</td>\n",
       "      <td>13100000</td>\n",
       "    </tr>\n",
       "    <tr>\n",
       "      <th>4</th>\n",
       "      <td>5</td>\n",
       "      <td>2011-09-05</td>\n",
       "      <td>77</td>\n",
       "      <td>77.0</td>\n",
       "      <td>4.0</td>\n",
       "      <td>NaN</td>\n",
       "      <td>NaN</td>\n",
       "      <td>NaN</td>\n",
       "      <td>NaN</td>\n",
       "      <td>NaN</td>\n",
       "      <td>...</td>\n",
       "      <td>319</td>\n",
       "      <td>108</td>\n",
       "      <td>17</td>\n",
       "      <td>135</td>\n",
       "      <td>236</td>\n",
       "      <td>2</td>\n",
       "      <td>91</td>\n",
       "      <td>195</td>\n",
       "      <td>14</td>\n",
       "      <td>16331452</td>\n",
       "    </tr>\n",
       "  </tbody>\n",
       "</table>\n",
       "<p>5 rows × 292 columns</p>\n",
       "</div>"
      ],
      "text/plain": [
       "   id   timestamp  full_sq  life_sq  floor  max_floor  material  build_year  \\\n",
       "0   1  2011-08-20       43     27.0    4.0        NaN       NaN         NaN   \n",
       "1   2  2011-08-23       34     19.0    3.0        NaN       NaN         NaN   \n",
       "2   3  2011-08-27       43     29.0    2.0        NaN       NaN         NaN   \n",
       "3   4  2011-09-01       89     50.0    9.0        NaN       NaN         NaN   \n",
       "4   5  2011-09-05       77     77.0    4.0        NaN       NaN         NaN   \n",
       "\n",
       "   num_room  kitch_sq  ...  cafe_count_5000_price_2500  \\\n",
       "0       NaN       NaN  ...                           9   \n",
       "1       NaN       NaN  ...                          15   \n",
       "2       NaN       NaN  ...                          10   \n",
       "3       NaN       NaN  ...                          11   \n",
       "4       NaN       NaN  ...                         319   \n",
       "\n",
       "  cafe_count_5000_price_4000 cafe_count_5000_price_high  \\\n",
       "0                          4                          0   \n",
       "1                          3                          0   \n",
       "2                          3                          0   \n",
       "3                          2                          1   \n",
       "4                        108                         17   \n",
       "\n",
       "   big_church_count_5000  church_count_5000  mosque_count_5000  \\\n",
       "0                     13                 22                  1   \n",
       "1                     15                 29                  1   \n",
       "2                     11                 27                  0   \n",
       "3                      4                  4                  0   \n",
       "4                    135                236                  2   \n",
       "\n",
       "   leisure_count_5000  sport_count_5000  market_count_5000  price_doc  \n",
       "0                   0                52                  4    5850000  \n",
       "1                  10                66                 14    6000000  \n",
       "2                   4                67                 10    5700000  \n",
       "3                   0                26                  3   13100000  \n",
       "4                  91               195                 14   16331452  \n",
       "\n",
       "[5 rows x 292 columns]"
      ]
     },
     "execution_count": 5,
     "metadata": {},
     "output_type": "execute_result"
    }
   ],
   "source": [
    "df.head()"
   ]
  },
  {
   "cell_type": "code",
   "execution_count": 6,
   "id": "4b83a026",
   "metadata": {},
   "outputs": [
    {
     "name": "stdout",
     "output_type": "stream",
     "text": [
      "Index(['id', 'full_sq', 'life_sq', 'floor', 'max_floor', 'material',\n",
      "       'build_year', 'num_room', 'kitch_sq', 'state',\n",
      "       ...\n",
      "       'cafe_count_5000_price_2500', 'cafe_count_5000_price_4000',\n",
      "       'cafe_count_5000_price_high', 'big_church_count_5000',\n",
      "       'church_count_5000', 'mosque_count_5000', 'leisure_count_5000',\n",
      "       'sport_count_5000', 'market_count_5000', 'price_doc'],\n",
      "      dtype='object', length=276)\n"
     ]
    }
   ],
   "source": [
    "numeric_cols=df.select_dtypes(include=['number']).columns\n",
    "\n",
    "print(numeric_cols)"
   ]
  },
  {
   "cell_type": "code",
   "execution_count": 7,
   "id": "ad15f8eb",
   "metadata": {},
   "outputs": [
    {
     "name": "stdout",
     "output_type": "stream",
     "text": [
      "Index(['timestamp', 'product_type', 'sub_area', 'culture_objects_top_25',\n",
      "       'thermal_power_plant_raion', 'incineration_raion',\n",
      "       'oil_chemistry_raion', 'radiation_raion', 'railroad_terminal_raion',\n",
      "       'big_market_raion', 'nuclear_reactor_raion', 'detention_facility_raion',\n",
      "       'water_1line', 'big_road1_1line', 'railroad_1line', 'ecology'],\n",
      "      dtype='object')\n"
     ]
    }
   ],
   "source": [
    "non_numeric_cols=df.select_dtypes(exclude=['number']).columns\n",
    "\n",
    "print(non_numeric_cols)"
   ]
  },
  {
   "cell_type": "code",
   "execution_count": 8,
   "id": "6e644518",
   "metadata": {},
   "outputs": [
    {
     "name": "stdout",
     "output_type": "stream",
     "text": [
      "<class 'pandas.core.frame.DataFrame'>\n",
      "RangeIndex: 30471 entries, 0 to 30470\n",
      "Data columns (total 16 columns):\n",
      " #   Column                     Non-Null Count  Dtype \n",
      "---  ------                     --------------  ----- \n",
      " 0   timestamp                  30471 non-null  object\n",
      " 1   product_type               30471 non-null  object\n",
      " 2   sub_area                   30471 non-null  object\n",
      " 3   culture_objects_top_25     30471 non-null  object\n",
      " 4   thermal_power_plant_raion  30471 non-null  object\n",
      " 5   incineration_raion         30471 non-null  object\n",
      " 6   oil_chemistry_raion        30471 non-null  object\n",
      " 7   radiation_raion            30471 non-null  object\n",
      " 8   railroad_terminal_raion    30471 non-null  object\n",
      " 9   big_market_raion           30471 non-null  object\n",
      " 10  nuclear_reactor_raion      30471 non-null  object\n",
      " 11  detention_facility_raion   30471 non-null  object\n",
      " 12  water_1line                30471 non-null  object\n",
      " 13  big_road1_1line            30471 non-null  object\n",
      " 14  railroad_1line             30471 non-null  object\n",
      " 15  ecology                    30471 non-null  object\n",
      "dtypes: object(16)\n",
      "memory usage: 3.7+ MB\n"
     ]
    }
   ],
   "source": [
    "df[non_numeric_cols].info()"
   ]
  },
  {
   "cell_type": "code",
   "execution_count": 9,
   "id": "79073fea",
   "metadata": {},
   "outputs": [
    {
     "data": {
      "text/plain": [
       "id                0\n",
       "timestamp         0\n",
       "full_sq           0\n",
       "life_sq        6383\n",
       "floor           167\n",
       "max_floor      9572\n",
       "material       9572\n",
       "build_year    13605\n",
       "num_room       9572\n",
       "kitch_sq       9572\n",
       "dtype: int64"
      ]
     },
     "execution_count": 9,
     "metadata": {},
     "output_type": "execute_result"
    }
   ],
   "source": [
    "num_missing=df.isna().sum()\n",
    "\n",
    "num_missing[:10]"
   ]
  },
  {
   "cell_type": "code",
   "execution_count": 10,
   "id": "b765654b",
   "metadata": {},
   "outputs": [
    {
     "data": {
      "text/plain": [
       "id            0.000000\n",
       "timestamp     0.000000\n",
       "full_sq       0.000000\n",
       "life_sq       0.209478\n",
       "floor         0.005481\n",
       "max_floor     0.314135\n",
       "material      0.314135\n",
       "build_year    0.446490\n",
       "num_room      0.314135\n",
       "kitch_sq      0.314135\n",
       "dtype: float64"
      ]
     },
     "execution_count": 10,
     "metadata": {},
     "output_type": "execute_result"
    }
   ],
   "source": [
    "pct_missing = df.isna().mean()\n",
    "\n",
    "pct_missing[:10]"
   ]
  },
  {
   "cell_type": "code",
   "execution_count": 11,
   "id": "588b3130",
   "metadata": {},
   "outputs": [],
   "source": [
    "import seaborn as sns\n",
    "import matplotlib.pyplot as plt\n"
   ]
  },
  {
   "cell_type": "code",
   "execution_count": 12,
   "id": "8bfbf381",
   "metadata": {},
   "outputs": [
    {
     "data": {
      "text/plain": [
       "<Figure size 720x576 with 0 Axes>"
      ]
     },
     "execution_count": 12,
     "metadata": {},
     "output_type": "execute_result"
    },
    {
     "data": {
      "text/plain": [
       "<Figure size 720x576 with 0 Axes>"
      ]
     },
     "metadata": {},
     "output_type": "display_data"
    }
   ],
   "source": [
    "plt.figure(figsize=(10,8))"
   ]
  },
  {
   "cell_type": "code",
   "execution_count": 13,
   "id": "e1b365dd",
   "metadata": {},
   "outputs": [
    {
     "data": {
      "text/plain": [
       "<AxesSubplot:>"
      ]
     },
     "execution_count": 13,
     "metadata": {},
     "output_type": "execute_result"
    },
    {
     "data": {
      "image/png": "[encoded data removed]",
      "text/plain": [
       "<Figure size 432x288 with 2 Axes>"
      ]
     },
     "metadata": {
      "needs_background": "light"
     },
     "output_type": "display_data"
    }
   ],
   "source": [
    "cols = df.columns[:30]\n",
    "\n",
    "colors = ['#000099','#ffff00'] \n",
    "sns.heatmap(df[cols].isna(), cmap=sns.color_palette(colors))"
   ]
  },
  {
   "cell_type": "code",
   "execution_count": 14,
   "id": "cdefc1ab",
   "metadata": {},
   "outputs": [],
   "source": [
    "#import missingno as msno - library not found"
   ]
  },
  {
   "cell_type": "code",
   "execution_count": 15,
   "id": "bd4ba67f",
   "metadata": {},
   "outputs": [
    {
     "data": {
      "text/plain": [
       "<AxesSubplot:>"
      ]
     },
     "execution_count": 15,
     "metadata": {},
     "output_type": "execute_result"
    },
    {
     "data": {
      "image/png": "[encoded data removed]",
      "text/plain": [
       "<Figure size 432x288 with 1 Axes>"
      ]
     },
     "metadata": {
      "needs_background": "light"
     },
     "output_type": "display_data"
    }
   ],
   "source": [
    "missing_by_row = df.isna().sum(axis='columns')\n",
    "\n",
    "missing_by_row.hist(bins=50)"
   ]
  },
  {
   "cell_type": "code",
   "execution_count": 16,
   "id": "5633124d",
   "metadata": {},
   "outputs": [
    {
     "name": "stdout",
     "output_type": "stream",
     "text": [
      "51\n"
     ]
    }
   ],
   "source": [
    "len_missing=num_missing[num_missing>0]\n",
    "\n",
    "print(len(len_missing))"
   ]
  },
  {
   "cell_type": "code",
   "execution_count": 17,
   "id": "70432226",
   "metadata": {},
   "outputs": [
    {
     "data": {
      "text/plain": [
       "life_sq             6383\n",
       "floor                167\n",
       "max_floor           9572\n",
       "material            9572\n",
       "build_year         13605\n",
       "num_room            9572\n",
       "kitch_sq            9572\n",
       "state              13559\n",
       "preschool_quota     6688\n",
       "school_quota        6685\n",
       "dtype: int64"
      ]
     },
     "execution_count": 17,
     "metadata": {},
     "output_type": "execute_result"
    }
   ],
   "source": [
    "len_missing[:10]"
   ]
  },
  {
   "cell_type": "code",
   "execution_count": 18,
   "id": "dadf942b",
   "metadata": {},
   "outputs": [
    {
     "data": {
      "text/plain": [
       "max_floor                     0.314135\n",
       "material                      0.314135\n",
       "build_year                    0.446490\n",
       "num_room                      0.314135\n",
       "kitch_sq                      0.314135\n",
       "state                         0.444980\n",
       "hospital_beds_raion           0.473926\n",
       "cafe_sum_500_min_price_avg    0.435857\n",
       "cafe_sum_500_max_price_avg    0.435857\n",
       "cafe_avg_price_500            0.435857\n",
       "dtype: float64"
      ]
     },
     "execution_count": 18,
     "metadata": {},
     "output_type": "execute_result"
    }
   ],
   "source": [
    "pct_missing[pct_missing>.3]"
   ]
  },
  {
   "cell_type": "code",
   "execution_count": 19,
   "id": "1619e526",
   "metadata": {},
   "outputs": [
    {
     "data": {
      "text/plain": [
       "(30471, 282)"
      ]
     },
     "execution_count": 19,
     "metadata": {},
     "output_type": "execute_result"
    }
   ],
   "source": [
    "df_less_missing_cols = df.loc[:, pct_missing <= .3].copy()\n",
    "\n",
    "df_less_missing_cols.shape"
   ]
  },
  {
   "cell_type": "code",
   "execution_count": 20,
   "id": "988a3428",
   "metadata": {},
   "outputs": [
    {
     "data": {
      "text/plain": [
       "(29302, 292)"
      ]
     },
     "execution_count": 20,
     "metadata": {},
     "output_type": "execute_result"
    }
   ],
   "source": [
    "df_less_missing_rows = df[missing_by_row<35].copy()\n",
    "\n",
    "df_less_missing_rows.shape"
   ]
  },
  {
   "cell_type": "code",
   "execution_count": 21,
   "id": "d967190f",
   "metadata": {},
   "outputs": [],
   "source": [
    "df_copy = df.copy()\n",
    "\n",
    "df_copy[numeric_cols] = df_copy[numeric_cols].fillna(-999)\n",
    "\n",
    "df_copy[non_numeric_cols] = df_copy[non_numeric_cols].fillna('_MISSING_')"
   ]
  },
  {
   "cell_type": "code",
   "execution_count": 22,
   "id": "22dabb57",
   "metadata": {},
   "outputs": [],
   "source": [
    "df_copy2 = df.copy()\n",
    "med = df_copy2[numeric_cols].median()\n",
    "\n",
    "df_copy2[numeric_cols] = df_copy2[numeric_cols].fillna(med)\n"
   ]
  },
  {
   "cell_type": "code",
   "execution_count": 23,
   "id": "b8738f53",
   "metadata": {},
   "outputs": [
    {
     "data": {
      "text/plain": [
       "timestamp                             2014-12-16\n",
       "product_type                          Investment\n",
       "sub_area                     Poselenie Sosenskoe\n",
       "culture_objects_top_25                        no\n",
       "thermal_power_plant_raion                     no\n",
       "incineration_raion                            no\n",
       "oil_chemistry_raion                           no\n",
       "radiation_raion                               no\n",
       "railroad_terminal_raion                       no\n",
       "big_market_raion                              no\n",
       "nuclear_reactor_raion                         no\n",
       "detention_facility_raion                      no\n",
       "water_1line                                   no\n",
       "big_road1_1line                               no\n",
       "railroad_1line                                no\n",
       "ecology                                     poor\n",
       "Name: top, dtype: object"
      ]
     },
     "execution_count": 23,
     "metadata": {},
     "output_type": "execute_result"
    }
   ],
   "source": [
    "most_freq = df_copy2[non_numeric_cols].describe().loc['top']\n",
    "most_freq"
   ]
  },
  {
   "cell_type": "code",
   "execution_count": 24,
   "id": "c351c9ec",
   "metadata": {},
   "outputs": [],
   "source": [
    "df_copy2[non_numeric_cols]=df_copy2[non_numeric_cols].fillna(most_freq)"
   ]
  },
  {
   "cell_type": "code",
   "execution_count": 25,
   "id": "299ecc16",
   "metadata": {},
   "outputs": [],
   "source": [
    "#Method 1 for identifying Outliers\n",
    "#Kurtosis\n",
    "\n",
    "\n"
   ]
  },
  {
   "cell_type": "code",
   "execution_count": 26,
   "id": "9aeea24e",
   "metadata": {},
   "outputs": [
    {
     "data": {
      "text/plain": [
       "id               -1.199940\n",
       "full_sq       12128.727462\n",
       "life_sq       17058.409645\n",
       "floor             1.731182\n",
       "max_floor         6.595262\n",
       "material          1.358512\n",
       "build_year    16865.716093\n",
       "num_room         13.292374\n",
       "kitch_sq       4680.043742\n",
       "state            88.399730\n",
       "dtype: float64"
      ]
     },
     "execution_count": 26,
     "metadata": {},
     "output_type": "execute_result"
    }
   ],
   "source": [
    "df.kurt(numeric_only=True)[:10]"
   ]
  },
  {
   "cell_type": "code",
   "execution_count": 27,
   "id": "0e70e0e9",
   "metadata": {},
   "outputs": [
    {
     "data": {
      "text/plain": [
       "count    24088.000000\n",
       "mean        34.403271\n",
       "std         52.285733\n",
       "min          0.000000\n",
       "25%         20.000000\n",
       "50%         30.000000\n",
       "75%         43.000000\n",
       "max       7478.000000\n",
       "Name: life_sq, dtype: float64"
      ]
     },
     "execution_count": 27,
     "metadata": {},
     "output_type": "execute_result"
    }
   ],
   "source": [
    "df['life_sq'].describe()"
   ]
  },
  {
   "cell_type": "code",
   "execution_count": 28,
   "id": "2ecce0f7",
   "metadata": {},
   "outputs": [],
   "source": [
    "#Method 2, histogram and box plot"
   ]
  },
  {
   "cell_type": "code",
   "execution_count": 29,
   "id": "43261909",
   "metadata": {
    "scrolled": true
   },
   "outputs": [
    {
     "data": {
      "text/plain": [
       "<AxesSubplot:>"
      ]
     },
     "execution_count": 29,
     "metadata": {},
     "output_type": "execute_result"
    },
    {
     "data": {
      "image/png": "[encoded data removed]",
      "text/plain": [
       "<Figure size 432x288 with 1 Axes>"
      ]
     },
     "metadata": {
      "needs_background": "light"
     },
     "output_type": "display_data"
    }
   ],
   "source": [
    "df['life_sq'].hist(bins=100)\n"
   ]
  },
  {
   "cell_type": "markdown",
   "id": "a62efb6f",
   "metadata": {},
   "source": [
    "Can see that the data is highly skewed, with possible outliers.\n",
    "\n",
    "But due to low frequency, cant see th exact location of the outliers and the counts\n",
    "\n"
   ]
  },
  {
   "cell_type": "code",
   "execution_count": 30,
   "id": "f6e92bb3",
   "metadata": {},
   "outputs": [
    {
     "data": {
      "text/plain": [
       "<AxesSubplot:>"
      ]
     },
     "execution_count": 30,
     "metadata": {},
     "output_type": "execute_result"
    },
    {
     "data": {
      "image/png": "[encoded data removed]",
      "text/plain": [
       "<Figure size 432x288 with 1 Axes>"
      ]
     },
     "metadata": {
      "needs_background": "light"
     },
     "output_type": "display_data"
    }
   ],
   "source": [
    "df.boxplot(column=['life_sq'])"
   ]
  },
  {
   "cell_type": "markdown",
   "id": "35d53631",
   "metadata": {},
   "source": [
    "Boxplot gives a more clear view of the outliers. There is an outlier with a value of over 7,000.\n",
    "All the dots on the plot are considered outliers by the box plot definition"
   ]
  },
  {
   "cell_type": "code",
   "execution_count": null,
   "id": "89269a1c",
   "metadata": {},
   "outputs": [],
   "source": []
  },
  {
   "cell_type": "markdown",
   "id": "fce071ee",
   "metadata": {},
   "source": [
    "Method #3 - Bar chart"
   ]
  },
  {
   "cell_type": "code",
   "execution_count": 31,
   "id": "1811560d",
   "metadata": {},
   "outputs": [
    {
     "data": {
      "text/plain": [
       "<AxesSubplot:>"
      ]
     },
     "execution_count": 31,
     "metadata": {},
     "output_type": "execute_result"
    },
    {
     "data": {
      "image/png": "[encoded data removed]",
      "text/plain": [
       "<Figure size 432x288 with 1 Axes>"
      ]
     },
     "metadata": {
      "needs_background": "light"
     },
     "output_type": "display_data"
    }
   ],
   "source": [
    "df['ecology'].value_counts().plot(kind='bar')"
   ]
  },
  {
   "cell_type": "markdown",
   "id": "e54646b9",
   "metadata": {},
   "source": [
    "Has even distribution. But if there is a category with only one value called \"Extraordinary' that could be considered an outlier"
   ]
  },
  {
   "cell_type": "code",
   "execution_count": null,
   "id": "a1e3cfc4",
   "metadata": {},
   "outputs": [],
   "source": []
  },
  {
   "cell_type": "markdown",
   "id": "e6e27287",
   "metadata": {},
   "source": [
    "UNNECESSARY DATA TYPE 1: Repetitive and uniformative\n",
    "\n",
    "\n",
    "If there is a column with an extremely high percentage of the same value. investigate for value\n"
   ]
  },
  {
   "cell_type": "code",
   "execution_count": 32,
   "id": "4587f675",
   "metadata": {},
   "outputs": [],
   "source": [
    "num_rows=len(df)\n",
    "\n",
    "\n",
    "\n",
    "for col in df.columns:\n",
    "    cnts=df[col].value_counts(dropna=False)\n",
    "    top_pct = (cnts/num_rows).iloc[0] #gives largest value count location\n",
    "    \n",
    "    if top_pct > 0.999:\n",
    "        print('{0} : {1:.2f}%'.format(col, top_pct*100))\n",
    "        \n",
    "        print(cnts)\n",
    "        \n",
    "        print()"
   ]
  },
  {
   "cell_type": "markdown",
   "id": "70fae5b8",
   "metadata": {},
   "source": [
    "Specifying to show columns with over 99.9% rows being the same value. no such row exists. Don't understand any of what it was doing."
   ]
  },
  {
   "cell_type": "markdown",
   "id": "e296ef66",
   "metadata": {},
   "source": [
    "If there is a column with a high percentage of the same value, we should look into it to see if its informative. can drop them when they are not / when the column is 100% the same value\n",
    "\n",
    "\n",
    "\n"
   ]
  },
  {
   "cell_type": "markdown",
   "id": "9bb742c3",
   "metadata": {},
   "source": [
    "\n",
    "\n",
    "UNNECESSARY TYPE 2: IRRELEVANT\n",
    "Scan through info, find irrelevant features. could use .drop in PANDAS to remove them"
   ]
  },
  {
   "cell_type": "markdown",
   "id": "5dddcf49",
   "metadata": {},
   "source": [
    "UNNECESSARY TYPE 3: DUPLICATES"
   ]
  },
  {
   "cell_type": "code",
   "execution_count": 33,
   "id": "6db9bc07",
   "metadata": {},
   "outputs": [
    {
     "data": {
      "text/html": [
       "<div>\n",
       "<style scoped>\n",
       "    .dataframe tbody tr th:only-of-type {\n",
       "        vertical-align: middle;\n",
       "    }\n",
       "\n",
       "    .dataframe tbody tr th {\n",
       "        vertical-align: top;\n",
       "    }\n",
       "\n",
       "    .dataframe thead th {\n",
       "        text-align: right;\n",
       "    }\n",
       "</style>\n",
       "<table border=\"1\" class=\"dataframe\">\n",
       "  <thead>\n",
       "    <tr style=\"text-align: right;\">\n",
       "      <th></th>\n",
       "      <th>id</th>\n",
       "      <th>timestamp</th>\n",
       "      <th>full_sq</th>\n",
       "      <th>life_sq</th>\n",
       "      <th>floor</th>\n",
       "      <th>max_floor</th>\n",
       "      <th>material</th>\n",
       "      <th>build_year</th>\n",
       "      <th>num_room</th>\n",
       "      <th>kitch_sq</th>\n",
       "      <th>...</th>\n",
       "      <th>cafe_count_5000_price_2500</th>\n",
       "      <th>cafe_count_5000_price_4000</th>\n",
       "      <th>cafe_count_5000_price_high</th>\n",
       "      <th>big_church_count_5000</th>\n",
       "      <th>church_count_5000</th>\n",
       "      <th>mosque_count_5000</th>\n",
       "      <th>leisure_count_5000</th>\n",
       "      <th>sport_count_5000</th>\n",
       "      <th>market_count_5000</th>\n",
       "      <th>price_doc</th>\n",
       "    </tr>\n",
       "  </thead>\n",
       "  <tbody>\n",
       "  </tbody>\n",
       "</table>\n",
       "<p>0 rows × 292 columns</p>\n",
       "</div>"
      ],
      "text/plain": [
       "Empty DataFrame\n",
       "Columns: [id, timestamp, full_sq, life_sq, floor, max_floor, material, build_year, num_room, kitch_sq, state, product_type, sub_area, area_m, raion_popul, green_zone_part, indust_part, children_preschool, preschool_quota, preschool_education_centers_raion, children_school, school_quota, school_education_centers_raion, school_education_centers_top_20_raion, hospital_beds_raion, healthcare_centers_raion, university_top_20_raion, sport_objects_raion, additional_education_raion, culture_objects_top_25, culture_objects_top_25_raion, shopping_centers_raion, office_raion, thermal_power_plant_raion, incineration_raion, oil_chemistry_raion, radiation_raion, railroad_terminal_raion, big_market_raion, nuclear_reactor_raion, detention_facility_raion, full_all, male_f, female_f, young_all, young_male, young_female, work_all, work_male, work_female, ekder_all, ekder_male, ekder_female, 0_6_all, 0_6_male, 0_6_female, 7_14_all, 7_14_male, 7_14_female, 0_17_all, 0_17_male, 0_17_female, 16_29_all, 16_29_male, 16_29_female, 0_13_all, 0_13_male, 0_13_female, raion_build_count_with_material_info, build_count_block, build_count_wood, build_count_frame, build_count_brick, build_count_monolith, build_count_panel, build_count_foam, build_count_slag, build_count_mix, raion_build_count_with_builddate_info, build_count_before_1920, build_count_1921-1945, build_count_1946-1970, build_count_1971-1995, build_count_after_1995, ID_metro, metro_min_avto, metro_km_avto, metro_min_walk, metro_km_walk, kindergarten_km, school_km, park_km, green_zone_km, industrial_km, water_treatment_km, cemetery_km, incineration_km, railroad_station_walk_km, railroad_station_walk_min, ID_railroad_station_walk, ...]\n",
       "Index: []\n",
       "\n",
       "[0 rows x 292 columns]"
      ]
     },
     "execution_count": 33,
     "metadata": {},
     "output_type": "execute_result"
    }
   ],
   "source": [
    "#Duplicate Type 1, All columns based\n",
    "\n",
    "df[df.duplicated()]\n"
   ]
  },
  {
   "cell_type": "code",
   "execution_count": 34,
   "id": "7d757eba",
   "metadata": {},
   "outputs": [
    {
     "data": {
      "text/html": [
       "<div>\n",
       "<style scoped>\n",
       "    .dataframe tbody tr th:only-of-type {\n",
       "        vertical-align: middle;\n",
       "    }\n",
       "\n",
       "    .dataframe tbody tr th {\n",
       "        vertical-align: top;\n",
       "    }\n",
       "\n",
       "    .dataframe thead th {\n",
       "        text-align: right;\n",
       "    }\n",
       "</style>\n",
       "<table border=\"1\" class=\"dataframe\">\n",
       "  <thead>\n",
       "    <tr style=\"text-align: right;\">\n",
       "      <th></th>\n",
       "      <th>id</th>\n",
       "      <th>timestamp</th>\n",
       "      <th>full_sq</th>\n",
       "      <th>life_sq</th>\n",
       "      <th>floor</th>\n",
       "      <th>max_floor</th>\n",
       "      <th>material</th>\n",
       "      <th>build_year</th>\n",
       "      <th>num_room</th>\n",
       "      <th>kitch_sq</th>\n",
       "      <th>...</th>\n",
       "      <th>cafe_count_5000_price_2500</th>\n",
       "      <th>cafe_count_5000_price_4000</th>\n",
       "      <th>cafe_count_5000_price_high</th>\n",
       "      <th>big_church_count_5000</th>\n",
       "      <th>church_count_5000</th>\n",
       "      <th>mosque_count_5000</th>\n",
       "      <th>leisure_count_5000</th>\n",
       "      <th>sport_count_5000</th>\n",
       "      <th>market_count_5000</th>\n",
       "      <th>price_doc</th>\n",
       "    </tr>\n",
       "  </thead>\n",
       "  <tbody>\n",
       "    <tr>\n",
       "      <th>3359</th>\n",
       "      <td>3362</td>\n",
       "      <td>2012-08-27</td>\n",
       "      <td>59</td>\n",
       "      <td>NaN</td>\n",
       "      <td>6.0</td>\n",
       "      <td>NaN</td>\n",
       "      <td>NaN</td>\n",
       "      <td>NaN</td>\n",
       "      <td>NaN</td>\n",
       "      <td>NaN</td>\n",
       "      <td>...</td>\n",
       "      <td>4</td>\n",
       "      <td>2</td>\n",
       "      <td>0</td>\n",
       "      <td>3</td>\n",
       "      <td>15</td>\n",
       "      <td>1</td>\n",
       "      <td>0</td>\n",
       "      <td>24</td>\n",
       "      <td>4</td>\n",
       "      <td>4506800</td>\n",
       "    </tr>\n",
       "    <tr>\n",
       "      <th>4328</th>\n",
       "      <td>4331</td>\n",
       "      <td>2012-10-22</td>\n",
       "      <td>61</td>\n",
       "      <td>NaN</td>\n",
       "      <td>18.0</td>\n",
       "      <td>NaN</td>\n",
       "      <td>NaN</td>\n",
       "      <td>NaN</td>\n",
       "      <td>NaN</td>\n",
       "      <td>NaN</td>\n",
       "      <td>...</td>\n",
       "      <td>11</td>\n",
       "      <td>2</td>\n",
       "      <td>1</td>\n",
       "      <td>5</td>\n",
       "      <td>4</td>\n",
       "      <td>0</td>\n",
       "      <td>1</td>\n",
       "      <td>32</td>\n",
       "      <td>5</td>\n",
       "      <td>8248500</td>\n",
       "    </tr>\n",
       "    <tr>\n",
       "      <th>6991</th>\n",
       "      <td>6994</td>\n",
       "      <td>2013-04-03</td>\n",
       "      <td>42</td>\n",
       "      <td>NaN</td>\n",
       "      <td>2.0</td>\n",
       "      <td>NaN</td>\n",
       "      <td>NaN</td>\n",
       "      <td>NaN</td>\n",
       "      <td>NaN</td>\n",
       "      <td>NaN</td>\n",
       "      <td>...</td>\n",
       "      <td>3</td>\n",
       "      <td>2</td>\n",
       "      <td>0</td>\n",
       "      <td>2</td>\n",
       "      <td>16</td>\n",
       "      <td>1</td>\n",
       "      <td>0</td>\n",
       "      <td>20</td>\n",
       "      <td>4</td>\n",
       "      <td>3444000</td>\n",
       "    </tr>\n",
       "    <tr>\n",
       "      <th>8059</th>\n",
       "      <td>8062</td>\n",
       "      <td>2013-05-22</td>\n",
       "      <td>68</td>\n",
       "      <td>NaN</td>\n",
       "      <td>2.0</td>\n",
       "      <td>NaN</td>\n",
       "      <td>NaN</td>\n",
       "      <td>NaN</td>\n",
       "      <td>NaN</td>\n",
       "      <td>NaN</td>\n",
       "      <td>...</td>\n",
       "      <td>3</td>\n",
       "      <td>2</td>\n",
       "      <td>0</td>\n",
       "      <td>2</td>\n",
       "      <td>16</td>\n",
       "      <td>1</td>\n",
       "      <td>0</td>\n",
       "      <td>20</td>\n",
       "      <td>4</td>\n",
       "      <td>5406690</td>\n",
       "    </tr>\n",
       "    <tr>\n",
       "      <th>8653</th>\n",
       "      <td>8656</td>\n",
       "      <td>2013-06-24</td>\n",
       "      <td>40</td>\n",
       "      <td>NaN</td>\n",
       "      <td>12.0</td>\n",
       "      <td>NaN</td>\n",
       "      <td>NaN</td>\n",
       "      <td>NaN</td>\n",
       "      <td>NaN</td>\n",
       "      <td>NaN</td>\n",
       "      <td>...</td>\n",
       "      <td>1</td>\n",
       "      <td>0</td>\n",
       "      <td>0</td>\n",
       "      <td>4</td>\n",
       "      <td>6</td>\n",
       "      <td>0</td>\n",
       "      <td>0</td>\n",
       "      <td>4</td>\n",
       "      <td>1</td>\n",
       "      <td>4112800</td>\n",
       "    </tr>\n",
       "    <tr>\n",
       "      <th>14004</th>\n",
       "      <td>14007</td>\n",
       "      <td>2014-01-22</td>\n",
       "      <td>46</td>\n",
       "      <td>28.0</td>\n",
       "      <td>1.0</td>\n",
       "      <td>9.0</td>\n",
       "      <td>1.0</td>\n",
       "      <td>1968.0</td>\n",
       "      <td>2.0</td>\n",
       "      <td>5.0</td>\n",
       "      <td>...</td>\n",
       "      <td>10</td>\n",
       "      <td>1</td>\n",
       "      <td>0</td>\n",
       "      <td>13</td>\n",
       "      <td>15</td>\n",
       "      <td>1</td>\n",
       "      <td>1</td>\n",
       "      <td>61</td>\n",
       "      <td>4</td>\n",
       "      <td>3000000</td>\n",
       "    </tr>\n",
       "    <tr>\n",
       "      <th>17404</th>\n",
       "      <td>17407</td>\n",
       "      <td>2014-04-15</td>\n",
       "      <td>134</td>\n",
       "      <td>134.0</td>\n",
       "      <td>1.0</td>\n",
       "      <td>1.0</td>\n",
       "      <td>1.0</td>\n",
       "      <td>0.0</td>\n",
       "      <td>3.0</td>\n",
       "      <td>0.0</td>\n",
       "      <td>...</td>\n",
       "      <td>0</td>\n",
       "      <td>0</td>\n",
       "      <td>0</td>\n",
       "      <td>0</td>\n",
       "      <td>1</td>\n",
       "      <td>0</td>\n",
       "      <td>0</td>\n",
       "      <td>0</td>\n",
       "      <td>0</td>\n",
       "      <td>5798496</td>\n",
       "    </tr>\n",
       "    <tr>\n",
       "      <th>26675</th>\n",
       "      <td>26678</td>\n",
       "      <td>2014-12-17</td>\n",
       "      <td>62</td>\n",
       "      <td>NaN</td>\n",
       "      <td>9.0</td>\n",
       "      <td>17.0</td>\n",
       "      <td>1.0</td>\n",
       "      <td>NaN</td>\n",
       "      <td>2.0</td>\n",
       "      <td>1.0</td>\n",
       "      <td>...</td>\n",
       "      <td>371</td>\n",
       "      <td>141</td>\n",
       "      <td>26</td>\n",
       "      <td>150</td>\n",
       "      <td>249</td>\n",
       "      <td>2</td>\n",
       "      <td>105</td>\n",
       "      <td>203</td>\n",
       "      <td>13</td>\n",
       "      <td>6552000</td>\n",
       "    </tr>\n",
       "    <tr>\n",
       "      <th>28361</th>\n",
       "      <td>28364</td>\n",
       "      <td>2015-03-14</td>\n",
       "      <td>62</td>\n",
       "      <td>NaN</td>\n",
       "      <td>2.0</td>\n",
       "      <td>17.0</td>\n",
       "      <td>1.0</td>\n",
       "      <td>NaN</td>\n",
       "      <td>2.0</td>\n",
       "      <td>1.0</td>\n",
       "      <td>...</td>\n",
       "      <td>371</td>\n",
       "      <td>141</td>\n",
       "      <td>26</td>\n",
       "      <td>150</td>\n",
       "      <td>249</td>\n",
       "      <td>2</td>\n",
       "      <td>105</td>\n",
       "      <td>203</td>\n",
       "      <td>13</td>\n",
       "      <td>6520500</td>\n",
       "    </tr>\n",
       "    <tr>\n",
       "      <th>28712</th>\n",
       "      <td>28715</td>\n",
       "      <td>2015-03-30</td>\n",
       "      <td>41</td>\n",
       "      <td>41.0</td>\n",
       "      <td>11.0</td>\n",
       "      <td>17.0</td>\n",
       "      <td>1.0</td>\n",
       "      <td>2016.0</td>\n",
       "      <td>1.0</td>\n",
       "      <td>41.0</td>\n",
       "      <td>...</td>\n",
       "      <td>2</td>\n",
       "      <td>2</td>\n",
       "      <td>0</td>\n",
       "      <td>2</td>\n",
       "      <td>9</td>\n",
       "      <td>0</td>\n",
       "      <td>0</td>\n",
       "      <td>7</td>\n",
       "      <td>2</td>\n",
       "      <td>4114580</td>\n",
       "    </tr>\n",
       "  </tbody>\n",
       "</table>\n",
       "<p>10 rows × 292 columns</p>\n",
       "</div>"
      ],
      "text/plain": [
       "          id   timestamp  full_sq  life_sq  floor  max_floor  material  \\\n",
       "3359    3362  2012-08-27       59      NaN    6.0        NaN       NaN   \n",
       "4328    4331  2012-10-22       61      NaN   18.0        NaN       NaN   \n",
       "6991    6994  2013-04-03       42      NaN    2.0        NaN       NaN   \n",
       "8059    8062  2013-05-22       68      NaN    2.0        NaN       NaN   \n",
       "8653    8656  2013-06-24       40      NaN   12.0        NaN       NaN   \n",
       "14004  14007  2014-01-22       46     28.0    1.0        9.0       1.0   \n",
       "17404  17407  2014-04-15      134    134.0    1.0        1.0       1.0   \n",
       "26675  26678  2014-12-17       62      NaN    9.0       17.0       1.0   \n",
       "28361  28364  2015-03-14       62      NaN    2.0       17.0       1.0   \n",
       "28712  28715  2015-03-30       41     41.0   11.0       17.0       1.0   \n",
       "\n",
       "       build_year  num_room  kitch_sq  ...  cafe_count_5000_price_2500  \\\n",
       "3359          NaN       NaN       NaN  ...                           4   \n",
       "4328          NaN       NaN       NaN  ...                          11   \n",
       "6991          NaN       NaN       NaN  ...                           3   \n",
       "8059          NaN       NaN       NaN  ...                           3   \n",
       "8653          NaN       NaN       NaN  ...                           1   \n",
       "14004      1968.0       2.0       5.0  ...                          10   \n",
       "17404         0.0       3.0       0.0  ...                           0   \n",
       "26675         NaN       2.0       1.0  ...                         371   \n",
       "28361         NaN       2.0       1.0  ...                         371   \n",
       "28712      2016.0       1.0      41.0  ...                           2   \n",
       "\n",
       "      cafe_count_5000_price_4000 cafe_count_5000_price_high  \\\n",
       "3359                           2                          0   \n",
       "4328                           2                          1   \n",
       "6991                           2                          0   \n",
       "8059                           2                          0   \n",
       "8653                           0                          0   \n",
       "14004                          1                          0   \n",
       "17404                          0                          0   \n",
       "26675                        141                         26   \n",
       "28361                        141                         26   \n",
       "28712                          2                          0   \n",
       "\n",
       "       big_church_count_5000  church_count_5000  mosque_count_5000  \\\n",
       "3359                       3                 15                  1   \n",
       "4328                       5                  4                  0   \n",
       "6991                       2                 16                  1   \n",
       "8059                       2                 16                  1   \n",
       "8653                       4                  6                  0   \n",
       "14004                     13                 15                  1   \n",
       "17404                      0                  1                  0   \n",
       "26675                    150                249                  2   \n",
       "28361                    150                249                  2   \n",
       "28712                      2                  9                  0   \n",
       "\n",
       "       leisure_count_5000  sport_count_5000  market_count_5000  price_doc  \n",
       "3359                    0                24                  4    4506800  \n",
       "4328                    1                32                  5    8248500  \n",
       "6991                    0                20                  4    3444000  \n",
       "8059                    0                20                  4    5406690  \n",
       "8653                    0                 4                  1    4112800  \n",
       "14004                   1                61                  4    3000000  \n",
       "17404                   0                 0                  0    5798496  \n",
       "26675                 105               203                 13    6552000  \n",
       "28361                 105               203                 13    6520500  \n",
       "28712                   0                 7                  2    4114580  \n",
       "\n",
       "[10 rows x 292 columns]"
      ]
     },
     "execution_count": 34,
     "metadata": {},
     "output_type": "execute_result"
    }
   ],
   "source": [
    "#Duplicates type #2: Key Columns based\n",
    "#Drop column id and see if there are duplicates based on the\n",
    "#rest of the columns. \n",
    "# First we drop id and then see if there are duplicated rows \n",
    "# from the DataFrame\n",
    "\n",
    "\n",
    "df[df.drop(columns=['id']).duplicated()]\n"
   ]
  },
  {
   "cell_type": "code",
   "execution_count": 35,
   "id": "9c0d064c",
   "metadata": {},
   "outputs": [],
   "source": [
    "df_dedupped = df.drop(columns=['id']).drop_duplicates()"
   ]
  },
  {
   "cell_type": "code",
   "execution_count": 36,
   "id": "046cdc33",
   "metadata": {},
   "outputs": [
    {
     "name": "stdout",
     "output_type": "stream",
     "text": [
      "(30471, 292)\n",
      "(30461, 291)\n"
     ]
    }
   ],
   "source": [
    "print(df.shape)\n",
    "print(df_dedupped.shape)"
   ]
  },
  {
   "cell_type": "markdown",
   "id": "df81bd19",
   "metadata": {},
   "source": [
    "Removes the 10 rows of duplicates. Had to drop the \"id\" column, as it was likely unique for each entry. This shows the rest as what is actually duplicated"
   ]
  },
  {
   "cell_type": "code",
   "execution_count": null,
   "id": "3785258f",
   "metadata": {},
   "outputs": [],
   "source": []
  },
  {
   "cell_type": "code",
   "execution_count": 37,
   "id": "4504d599",
   "metadata": {},
   "outputs": [
    {
     "data": {
      "text/plain": [
       "timestamp   full_sq  life_sq  floor  build_year  num_room  price_doc\n",
       "2012-08-27  59       -999.0   6.0    -999.0      -999.0    4506800      2\n",
       "2012-09-05  43       -999.0   21.0   -999.0      -999.0    6229540      2\n",
       "2012-10-22  61       -999.0   18.0   -999.0      -999.0    8248500      2\n",
       "2013-04-03  42       -999.0   2.0    -999.0      -999.0    3444000      2\n",
       "2013-05-22  68       -999.0   2.0    -999.0      -999.0    5406690      2\n",
       "2013-06-24  40       -999.0   12.0   -999.0      -999.0    4112800      2\n",
       "2013-08-30  40       -999.0   12.0   -999.0       1.0      4462000      2\n",
       "2013-09-23  85       -999.0   14.0   -999.0       3.0      7725974      2\n",
       "2013-12-05  40       -999.0   5.0    -999.0       1.0      4414080      2\n",
       "2013-12-18  39       -999.0   6.0    -999.0       1.0      3700946      2\n",
       "2014-01-22  46        28.0    1.0     1968.0      2.0      3000000      2\n",
       "2014-04-15  134       134.0   1.0     0.0         3.0      5798496      2\n",
       "2014-12-09  40       -999.0   17.0   -999.0       1.0      4607265      2\n",
       "2014-12-17  62       -999.0   9.0    -999.0       2.0      6552000      2\n",
       "2015-03-14  62       -999.0   2.0    -999.0       2.0      6520500      2\n",
       "2015-03-30  41        41.0    11.0    2016.0      1.0      4114580      2\n",
       "Name: id, dtype: int64"
      ]
     },
     "execution_count": 37,
     "metadata": {},
     "output_type": "execute_result"
    }
   ],
   "source": [
    "key = ['timestamp', 'full_sq', 'life_sq', 'floor', 'build_year', 'num_room', 'price_doc']\n",
    "\n",
    "df_grouped = df.fillna(-999).groupby(key)['id'].count()\n",
    "\n",
    "df_grouped[df_grouped > 1]"
   ]
  },
  {
   "cell_type": "markdown",
   "id": "de1027da",
   "metadata": {},
   "source": [
    "We can drop these duplicates based on the subset of key columns"
   ]
  },
  {
   "cell_type": "code",
   "execution_count": 39,
   "id": "c4cea9d7",
   "metadata": {},
   "outputs": [
    {
     "name": "stdout",
     "output_type": "stream",
     "text": [
      "(30471, 292)\n",
      "(30455, 292)\n"
     ]
    }
   ],
   "source": [
    "df_dedupped2=df.drop_duplicates(subset=key)\n",
    "\n",
    "print(df.shape)\n",
    "\n",
    "print(df_dedupped2.shape)"
   ]
  },
  {
   "cell_type": "markdown",
   "id": "23ae105b",
   "metadata": {},
   "source": [
    "INCONSISTENT DATA\n",
    "type 1, capitilization"
   ]
  },
  {
   "cell_type": "code",
   "execution_count": 40,
   "id": "136c2cfa",
   "metadata": {},
   "outputs": [
    {
     "data": {
      "text/plain": [
       "Poselenie Sosenskoe               1776\n",
       "Nekrasovka                        1611\n",
       "Poselenie Vnukovskoe              1372\n",
       "Poselenie Moskovskij               925\n",
       "Poselenie Voskresenskoe            713\n",
       "                                  ... \n",
       "Molzhaninovskoe                      3\n",
       "Poselenie Shhapovskoe                2\n",
       "Poselenie Kievskij                   2\n",
       "Poselenie Klenovskoe                 1\n",
       "Poselenie Mihajlovo-Jarcevskoe       1\n",
       "Name: sub_area, Length: 146, dtype: int64"
      ]
     },
     "execution_count": 40,
     "metadata": {},
     "output_type": "execute_result"
    }
   ],
   "source": [
    "df['sub_area'].value_counts(dropna=False)"
   ]
  },
  {
   "cell_type": "code",
   "execution_count": 41,
   "id": "0c8ef45d",
   "metadata": {},
   "outputs": [
    {
     "data": {
      "text/plain": [
       "poselenie sosenskoe               1776\n",
       "nekrasovka                        1611\n",
       "poselenie vnukovskoe              1372\n",
       "poselenie moskovskij               925\n",
       "poselenie voskresenskoe            713\n",
       "                                  ... \n",
       "molzhaninovskoe                      3\n",
       "poselenie shhapovskoe                2\n",
       "poselenie kievskij                   2\n",
       "poselenie klenovskoe                 1\n",
       "poselenie mihajlovo-jarcevskoe       1\n",
       "Name: sub_area_lower, Length: 146, dtype: int64"
      ]
     },
     "execution_count": 41,
     "metadata": {},
     "output_type": "execute_result"
    }
   ],
   "source": [
    "#make them all upper or lower to ensure consistency \n",
    "df['sub_area_lower']=df['sub_area'].str.lower()\n",
    "df['sub_area_lower'].value_counts(dropna=False)"
   ]
  },
  {
   "cell_type": "markdown",
   "id": "5e9f473c",
   "metadata": {},
   "source": [
    "Type 2: Data type"
   ]
  },
  {
   "cell_type": "code",
   "execution_count": 42,
   "id": "1d49fc1d",
   "metadata": {},
   "outputs": [
    {
     "data": {
      "text/plain": [
       "0        2011-08-20\n",
       "1        2011-08-23\n",
       "2        2011-08-27\n",
       "3        2011-09-01\n",
       "4        2011-09-05\n",
       "            ...    \n",
       "30466    2015-06-30\n",
       "30467    2015-06-30\n",
       "30468    2015-06-30\n",
       "30469    2015-06-30\n",
       "30470    2015-06-30\n",
       "Name: timestamp, Length: 30471, dtype: object"
      ]
     },
     "execution_count": 42,
     "metadata": {},
     "output_type": "execute_result"
    }
   ],
   "source": [
    "df['timestamp']"
   ]
  },
  {
   "cell_type": "markdown",
   "id": "9a3f2868",
   "metadata": {},
   "source": [
    "Has a dtype of object. Can convert to a DateTime format and be able to extract the specific year, month, weekday etc. "
   ]
  },
  {
   "cell_type": "code",
   "execution_count": 45,
   "id": "06f55305",
   "metadata": {},
   "outputs": [
    {
     "data": {
      "text/html": [
       "<div>\n",
       "<style scoped>\n",
       "    .dataframe tbody tr th:only-of-type {\n",
       "        vertical-align: middle;\n",
       "    }\n",
       "\n",
       "    .dataframe tbody tr th {\n",
       "        vertical-align: top;\n",
       "    }\n",
       "\n",
       "    .dataframe thead th {\n",
       "        text-align: right;\n",
       "    }\n",
       "</style>\n",
       "<table border=\"1\" class=\"dataframe\">\n",
       "  <thead>\n",
       "    <tr style=\"text-align: right;\">\n",
       "      <th></th>\n",
       "      <th>timestamp_dt</th>\n",
       "      <th>year</th>\n",
       "      <th>month</th>\n",
       "      <th>weekday</th>\n",
       "    </tr>\n",
       "  </thead>\n",
       "  <tbody>\n",
       "    <tr>\n",
       "      <th>0</th>\n",
       "      <td>2011-08-20</td>\n",
       "      <td>2011</td>\n",
       "      <td>8</td>\n",
       "      <td>5</td>\n",
       "    </tr>\n",
       "    <tr>\n",
       "      <th>1</th>\n",
       "      <td>2011-08-23</td>\n",
       "      <td>2011</td>\n",
       "      <td>8</td>\n",
       "      <td>1</td>\n",
       "    </tr>\n",
       "    <tr>\n",
       "      <th>2</th>\n",
       "      <td>2011-08-27</td>\n",
       "      <td>2011</td>\n",
       "      <td>8</td>\n",
       "      <td>5</td>\n",
       "    </tr>\n",
       "    <tr>\n",
       "      <th>3</th>\n",
       "      <td>2011-09-01</td>\n",
       "      <td>2011</td>\n",
       "      <td>9</td>\n",
       "      <td>3</td>\n",
       "    </tr>\n",
       "    <tr>\n",
       "      <th>4</th>\n",
       "      <td>2011-09-05</td>\n",
       "      <td>2011</td>\n",
       "      <td>9</td>\n",
       "      <td>0</td>\n",
       "    </tr>\n",
       "  </tbody>\n",
       "</table>\n",
       "</div>"
      ],
      "text/plain": [
       "  timestamp_dt  year  month  weekday\n",
       "0   2011-08-20  2011      8        5\n",
       "1   2011-08-23  2011      8        1\n",
       "2   2011-08-27  2011      8        5\n",
       "3   2011-09-01  2011      9        3\n",
       "4   2011-09-05  2011      9        0"
      ]
     },
     "execution_count": 45,
     "metadata": {},
     "output_type": "execute_result"
    }
   ],
   "source": [
    "df['timestamp_dt'] = pd.to_datetime(df['timestamp'], format='%Y-%m-%d')\n",
    "\n",
    "df['year'] = df['timestamp_dt'].dt.year\n",
    "\n",
    "df['month']= df['timestamp_dt'].dt.month\n",
    "\n",
    "df['weekday'] = df['timestamp_dt'].dt.weekday\n",
    "\n",
    "\n",
    "df[['timestamp_dt', 'year', 'month', 'weekday']].head()"
   ]
  },
  {
   "cell_type": "markdown",
   "id": "809a7804",
   "metadata": {},
   "source": [
    "TYPE 3: typos of categorical values"
   ]
  },
  {
   "cell_type": "code",
   "execution_count": 46,
   "id": "2e1f1fed",
   "metadata": {},
   "outputs": [
    {
     "data": {
      "text/html": [
       "<div>\n",
       "<style scoped>\n",
       "    .dataframe tbody tr th:only-of-type {\n",
       "        vertical-align: middle;\n",
       "    }\n",
       "\n",
       "    .dataframe tbody tr th {\n",
       "        vertical-align: top;\n",
       "    }\n",
       "\n",
       "    .dataframe thead th {\n",
       "        text-align: right;\n",
       "    }\n",
       "</style>\n",
       "<table border=\"1\" class=\"dataframe\">\n",
       "  <thead>\n",
       "    <tr style=\"text-align: right;\">\n",
       "      <th></th>\n",
       "      <th>city</th>\n",
       "      <th>city_distance_toronto</th>\n",
       "      <th>city_distance_vancouver</th>\n",
       "      <th>city_distance_montreal</th>\n",
       "      <th>city_distance_calgary</th>\n",
       "    </tr>\n",
       "  </thead>\n",
       "  <tbody>\n",
       "    <tr>\n",
       "      <th>0</th>\n",
       "      <td>torontoo</td>\n",
       "      <td>1</td>\n",
       "      <td>8</td>\n",
       "      <td>7</td>\n",
       "      <td>8</td>\n",
       "    </tr>\n",
       "    <tr>\n",
       "      <th>1</th>\n",
       "      <td>toronto</td>\n",
       "      <td>0</td>\n",
       "      <td>8</td>\n",
       "      <td>7</td>\n",
       "      <td>7</td>\n",
       "    </tr>\n",
       "    <tr>\n",
       "      <th>2</th>\n",
       "      <td>tronto</td>\n",
       "      <td>1</td>\n",
       "      <td>8</td>\n",
       "      <td>6</td>\n",
       "      <td>7</td>\n",
       "    </tr>\n",
       "    <tr>\n",
       "      <th>3</th>\n",
       "      <td>vancouver</td>\n",
       "      <td>8</td>\n",
       "      <td>0</td>\n",
       "      <td>8</td>\n",
       "      <td>8</td>\n",
       "    </tr>\n",
       "    <tr>\n",
       "      <th>4</th>\n",
       "      <td>vancover</td>\n",
       "      <td>7</td>\n",
       "      <td>1</td>\n",
       "      <td>7</td>\n",
       "      <td>7</td>\n",
       "    </tr>\n",
       "    <tr>\n",
       "      <th>5</th>\n",
       "      <td>vancouvr</td>\n",
       "      <td>7</td>\n",
       "      <td>1</td>\n",
       "      <td>7</td>\n",
       "      <td>7</td>\n",
       "    </tr>\n",
       "    <tr>\n",
       "      <th>6</th>\n",
       "      <td>montreal</td>\n",
       "      <td>7</td>\n",
       "      <td>8</td>\n",
       "      <td>0</td>\n",
       "      <td>8</td>\n",
       "    </tr>\n",
       "    <tr>\n",
       "      <th>7</th>\n",
       "      <td>calgary</td>\n",
       "      <td>7</td>\n",
       "      <td>8</td>\n",
       "      <td>8</td>\n",
       "      <td>0</td>\n",
       "    </tr>\n",
       "  </tbody>\n",
       "</table>\n",
       "</div>"
      ],
      "text/plain": [
       "        city  city_distance_toronto  city_distance_vancouver  \\\n",
       "0   torontoo                      1                        8   \n",
       "1    toronto                      0                        8   \n",
       "2     tronto                      1                        8   \n",
       "3  vancouver                      8                        0   \n",
       "4   vancover                      7                        1   \n",
       "5   vancouvr                      7                        1   \n",
       "6   montreal                      7                        8   \n",
       "7    calgary                      7                        8   \n",
       "\n",
       "   city_distance_montreal  city_distance_calgary  \n",
       "0                       7                      8  \n",
       "1                       7                      7  \n",
       "2                       6                      7  \n",
       "3                       8                      8  \n",
       "4                       7                      7  \n",
       "5                       7                      7  \n",
       "6                       0                      8  \n",
       "7                       8                      0  "
      ]
     },
     "execution_count": 46,
     "metadata": {},
     "output_type": "execute_result"
    }
   ],
   "source": [
    "#generate a new DataFram, df_city_ex, with only one column \n",
    "# that stores the city names\n",
    "\n",
    "df_city_ex=pd.DataFrame(data={'city' : ['torontoo', 'toronto', 'tronto', 'vancouver', 'vancover', 'vancouvr', 'montreal', 'calgary']})\n",
    "\n",
    "cities = ['toronto', 'vancouver', 'montreal', 'calgary']\n",
    "\n",
    "from nltk.metrics import edit_distance\n",
    "\n",
    "for city in cities:\n",
    "    df_city_ex[f'city_distance_{city}'] = df_city_ex['city'].map(lambda x: edit_distance(x, city))\n",
    "    \n",
    "df_city_ex"
   ]
  },
  {
   "cell_type": "code",
   "execution_count": 49,
   "id": "1e721c02",
   "metadata": {},
   "outputs": [
    {
     "data": {
      "text/html": [
       "<div>\n",
       "<style scoped>\n",
       "    .dataframe tbody tr th:only-of-type {\n",
       "        vertical-align: middle;\n",
       "    }\n",
       "\n",
       "    .dataframe tbody tr th {\n",
       "        vertical-align: top;\n",
       "    }\n",
       "\n",
       "    .dataframe thead th {\n",
       "        text-align: right;\n",
       "    }\n",
       "</style>\n",
       "<table border=\"1\" class=\"dataframe\">\n",
       "  <thead>\n",
       "    <tr style=\"text-align: right;\">\n",
       "      <th></th>\n",
       "      <th>city</th>\n",
       "      <th>city_distance_toronto</th>\n",
       "      <th>city_distance_vancouver</th>\n",
       "      <th>city_distance_montreal</th>\n",
       "      <th>city_distance_calgary</th>\n",
       "    </tr>\n",
       "  </thead>\n",
       "  <tbody>\n",
       "    <tr>\n",
       "      <th>0</th>\n",
       "      <td>toronto</td>\n",
       "      <td>1</td>\n",
       "      <td>8</td>\n",
       "      <td>7</td>\n",
       "      <td>8</td>\n",
       "    </tr>\n",
       "    <tr>\n",
       "      <th>1</th>\n",
       "      <td>toronto</td>\n",
       "      <td>0</td>\n",
       "      <td>8</td>\n",
       "      <td>7</td>\n",
       "      <td>7</td>\n",
       "    </tr>\n",
       "    <tr>\n",
       "      <th>2</th>\n",
       "      <td>toronto</td>\n",
       "      <td>1</td>\n",
       "      <td>8</td>\n",
       "      <td>6</td>\n",
       "      <td>7</td>\n",
       "    </tr>\n",
       "    <tr>\n",
       "      <th>3</th>\n",
       "      <td>vancouver</td>\n",
       "      <td>8</td>\n",
       "      <td>0</td>\n",
       "      <td>8</td>\n",
       "      <td>8</td>\n",
       "    </tr>\n",
       "    <tr>\n",
       "      <th>4</th>\n",
       "      <td>vancouver</td>\n",
       "      <td>7</td>\n",
       "      <td>1</td>\n",
       "      <td>7</td>\n",
       "      <td>7</td>\n",
       "    </tr>\n",
       "    <tr>\n",
       "      <th>5</th>\n",
       "      <td>vancouver</td>\n",
       "      <td>7</td>\n",
       "      <td>1</td>\n",
       "      <td>7</td>\n",
       "      <td>7</td>\n",
       "    </tr>\n",
       "    <tr>\n",
       "      <th>6</th>\n",
       "      <td>montreal</td>\n",
       "      <td>7</td>\n",
       "      <td>8</td>\n",
       "      <td>0</td>\n",
       "      <td>8</td>\n",
       "    </tr>\n",
       "    <tr>\n",
       "      <th>7</th>\n",
       "      <td>calgary</td>\n",
       "      <td>7</td>\n",
       "      <td>8</td>\n",
       "      <td>8</td>\n",
       "      <td>0</td>\n",
       "    </tr>\n",
       "  </tbody>\n",
       "</table>\n",
       "</div>"
      ],
      "text/plain": [
       "        city  city_distance_toronto  city_distance_vancouver  \\\n",
       "0    toronto                      1                        8   \n",
       "1    toronto                      0                        8   \n",
       "2    toronto                      1                        8   \n",
       "3  vancouver                      8                        0   \n",
       "4  vancouver                      7                        1   \n",
       "5  vancouver                      7                        1   \n",
       "6   montreal                      7                        8   \n",
       "7    calgary                      7                        8   \n",
       "\n",
       "   city_distance_montreal  city_distance_calgary  \n",
       "0                       7                      8  \n",
       "1                       7                      7  \n",
       "2                       6                      7  \n",
       "3                       8                      8  \n",
       "4                       7                      7  \n",
       "5                       7                      7  \n",
       "6                       0                      8  \n",
       "7                       8                      0  "
      ]
     },
     "execution_count": 49,
     "metadata": {},
     "output_type": "execute_result"
    }
   ],
   "source": [
    "msk = df_city_ex['city_distance_toronto'] <=2\n",
    "df_city_ex.loc[msk, 'city'] = 'toronto'\n",
    "\n",
    "\n",
    "msk=df_city_ex['city_distance_vancouver']<=2\n",
    "df_city_ex.loc[msk, 'city'] = 'vancouver'\n",
    "\n",
    "df_city_ex"
   ]
  },
  {
   "cell_type": "markdown",
   "id": "cc89bf2e",
   "metadata": {},
   "source": [
    "TYPE 4: Addresses"
   ]
  },
  {
   "cell_type": "code",
   "execution_count": 51,
   "id": "b46545ed",
   "metadata": {},
   "outputs": [
    {
     "data": {
      "text/html": [
       "<div>\n",
       "<style scoped>\n",
       "    .dataframe tbody tr th:only-of-type {\n",
       "        vertical-align: middle;\n",
       "    }\n",
       "\n",
       "    .dataframe tbody tr th {\n",
       "        vertical-align: top;\n",
       "    }\n",
       "\n",
       "    .dataframe thead th {\n",
       "        text-align: right;\n",
       "    }\n",
       "</style>\n",
       "<table border=\"1\" class=\"dataframe\">\n",
       "  <thead>\n",
       "    <tr style=\"text-align: right;\">\n",
       "      <th></th>\n",
       "      <th>address</th>\n",
       "    </tr>\n",
       "  </thead>\n",
       "  <tbody>\n",
       "    <tr>\n",
       "      <th>0</th>\n",
       "      <td>123 MAIN St Apartment 15</td>\n",
       "    </tr>\n",
       "    <tr>\n",
       "      <th>1</th>\n",
       "      <td>123 Main Street Apt 12</td>\n",
       "    </tr>\n",
       "    <tr>\n",
       "      <th>2</th>\n",
       "      <td>543 FIRst Av</td>\n",
       "    </tr>\n",
       "    <tr>\n",
       "      <th>3</th>\n",
       "      <td>876 FirSt Ave.</td>\n",
       "    </tr>\n",
       "  </tbody>\n",
       "</table>\n",
       "</div>"
      ],
      "text/plain": [
       "                    address\n",
       "0  123 MAIN St Apartment 15\n",
       "1  123 Main Street Apt 12  \n",
       "2              543 FIRst Av\n",
       "3            876 FirSt Ave."
      ]
     },
     "execution_count": 51,
     "metadata": {},
     "output_type": "execute_result"
    }
   ],
   "source": [
    "df_add_ex = pd.DataFrame(['123 MAIN St Apartment 15', '123 Main Street Apt 12  ', '543 FIRst Av', '876 FirSt Ave.'], columns=['address'])\n",
    "\n",
    "df_add_ex"
   ]
  },
  {
   "cell_type": "markdown",
   "id": "da17540e",
   "metadata": {},
   "source": [
    "Run code to \n",
    "- lowercase the letters\n",
    "- remove leading and trailing white spaces\n",
    "- delete periods\n",
    "- standarize wordings"
   ]
  },
  {
   "cell_type": "code",
   "execution_count": 52,
   "id": "9f1e3b36",
   "metadata": {},
   "outputs": [],
   "source": [
    "df_add_ex['address_std'] = df_add_ex['address'].str.lower()\n",
    "df_add_ex['address_std'] = df_add_ex['address_std'].str.strip()\n",
    "#removes ^ leading and trailing whitespace\n",
    "\n",
    "df_add_ex['address_std'] = df_add_ex['address_std'].str.replace('\\\\.', '', regex=True)\n",
    "#removes^ period\n",
    "\n",
    "df_add_ex['address_std'] = df_add_ex['address_std'].str.replace('\\\\bstreet\\\\b', 'st', regex=True)\n",
    "#replace street with st\n",
    "\n",
    "df_add_ex['address_std'] = df_add_ex['address_std'].str.replace('\\\\bapartment\\\\b','apt', regex=True)\n",
    "#replace apartment with apt\n",
    "\n",
    "df_add_ex['address_std'] = df_add_ex['address_std'].str.replace('\\\\bav\\\\b', 'ave', regex=True)\n",
    "#replace av with ave\n"
   ]
  },
  {
   "cell_type": "code",
   "execution_count": 53,
   "id": "ed970bf5",
   "metadata": {
    "scrolled": true
   },
   "outputs": [
    {
     "data": {
      "text/html": [
       "<div>\n",
       "<style scoped>\n",
       "    .dataframe tbody tr th:only-of-type {\n",
       "        vertical-align: middle;\n",
       "    }\n",
       "\n",
       "    .dataframe tbody tr th {\n",
       "        vertical-align: top;\n",
       "    }\n",
       "\n",
       "    .dataframe thead th {\n",
       "        text-align: right;\n",
       "    }\n",
       "</style>\n",
       "<table border=\"1\" class=\"dataframe\">\n",
       "  <thead>\n",
       "    <tr style=\"text-align: right;\">\n",
       "      <th></th>\n",
       "      <th>address</th>\n",
       "      <th>address_std</th>\n",
       "    </tr>\n",
       "  </thead>\n",
       "  <tbody>\n",
       "    <tr>\n",
       "      <th>0</th>\n",
       "      <td>123 MAIN St Apartment 15</td>\n",
       "      <td>123 main st apt 15</td>\n",
       "    </tr>\n",
       "    <tr>\n",
       "      <th>1</th>\n",
       "      <td>123 Main Street Apt 12</td>\n",
       "      <td>123 main st apt 12</td>\n",
       "    </tr>\n",
       "    <tr>\n",
       "      <th>2</th>\n",
       "      <td>543 FIRst Av</td>\n",
       "      <td>543 first ave</td>\n",
       "    </tr>\n",
       "    <tr>\n",
       "      <th>3</th>\n",
       "      <td>876 FirSt Ave.</td>\n",
       "      <td>876 first ave</td>\n",
       "    </tr>\n",
       "  </tbody>\n",
       "</table>\n",
       "</div>"
      ],
      "text/plain": [
       "                    address         address_std\n",
       "0  123 MAIN St Apartment 15  123 main st apt 15\n",
       "1  123 Main Street Apt 12    123 main st apt 12\n",
       "2              543 FIRst Av       543 first ave\n",
       "3            876 FirSt Ave.       876 first ave"
      ]
     },
     "execution_count": 53,
     "metadata": {},
     "output_type": "execute_result"
    }
   ],
   "source": [
    "df_add_ex"
   ]
  },
  {
   "cell_type": "markdown",
   "id": "c6fccadf",
   "metadata": {},
   "source": [
    "https://www.justintodata.com/data-cleaning-techniques-python-guide/"
   ]
  },
  {
   "cell_type": "markdown",
   "id": "046d9cbe",
   "metadata": {},
   "source": [
    "Used regular expressions to specify search patterns\n",
    "https://docs.python.org/3/library/re.html\n",
    "\n"
   ]
  },
  {
   "cell_type": "code",
   "execution_count": null,
   "id": "4123e552",
   "metadata": {},
   "outputs": [],
   "source": []
  },
  {
   "cell_type": "code",
   "execution_count": null,
   "id": "d4e1857b",
   "metadata": {},
   "outputs": [],
   "source": []
  },
  {
   "cell_type": "code",
   "execution_count": null,
   "id": "aafde374",
   "metadata": {},
   "outputs": [],
   "source": []
  }
 ],
 "metadata": {
  "kernelspec": {
   "display_name": "Python 3 (ipykernel)",
   "language": "python",
   "name": "python3"
  },
  "language_info": {
   "codemirror_mode": {
    "name": "ipython",
    "version": 3
   },
   "file_extension": ".py",
   "mimetype": "text/x-python",
   "name": "python",
   "nbconvert_exporter": "python",
   "pygments_lexer": "ipython3",
   "version": "3.7.11"
  }
 },
 "nbformat": 4,
 "nbformat_minor": 5
}
